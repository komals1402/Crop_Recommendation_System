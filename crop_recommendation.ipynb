{
 "cells": [
  {
   "cell_type": "code",
   "execution_count": 1,
   "id": "c82b2e3e",
   "metadata": {},
   "outputs": [],
   "source": [
    "from __future__ import print_function\n",
    "import pandas as pd\n",
    "import numpy as np\n",
    "import matplotlib.pyplot as plt\n",
    "import seaborn as sns\n",
    "from sklearn.metrics import classification_report\n",
    "from sklearn import metrics\n",
    "from sklearn import tree\n",
    "import warnings\n",
    "warnings.filterwarnings('ignore')\n",
    "from sklearn.model_selection import cross_val_score"
   ]
  },
  {
   "cell_type": "code",
   "execution_count": 2,
   "id": "b45c7fa2",
   "metadata": {},
   "outputs": [],
   "source": [
    "df = pd.read_csv(\"dataNEW - Sheet1 (1).csv\")"
   ]
  },
  {
   "cell_type": "code",
   "execution_count": 3,
   "id": "afcbff52",
   "metadata": {},
   "outputs": [
    {
     "data": {
      "text/html": [
       "<div>\n",
       "<style scoped>\n",
       "    .dataframe tbody tr th:only-of-type {\n",
       "        vertical-align: middle;\n",
       "    }\n",
       "\n",
       "    .dataframe tbody tr th {\n",
       "        vertical-align: top;\n",
       "    }\n",
       "\n",
       "    .dataframe thead th {\n",
       "        text-align: right;\n",
       "    }\n",
       "</style>\n",
       "<table border=\"1\" class=\"dataframe\">\n",
       "  <thead>\n",
       "    <tr style=\"text-align: right;\">\n",
       "      <th></th>\n",
       "      <th>Nitrogen Content</th>\n",
       "      <th>Phosphorous Content</th>\n",
       "      <th>Potassium Content</th>\n",
       "      <th>Temperature in Celsius</th>\n",
       "      <th>Humidity</th>\n",
       "      <th>Potential of Hydrogen</th>\n",
       "      <th>Rainfall</th>\n",
       "      <th>Crops chosen</th>\n",
       "      <th>weather_temperature</th>\n",
       "      <th>weather_humidity</th>\n",
       "      <th>solar_radiation</th>\n",
       "      <th>soil_moisture</th>\n",
       "      <th>soil_temperature</th>\n",
       "    </tr>\n",
       "  </thead>\n",
       "  <tbody>\n",
       "    <tr>\n",
       "      <th>0</th>\n",
       "      <td>90</td>\n",
       "      <td>42</td>\n",
       "      <td>43</td>\n",
       "      <td>20.879744</td>\n",
       "      <td>82.002744</td>\n",
       "      <td>6.502985</td>\n",
       "      <td>202.935536</td>\n",
       "      <td>rice</td>\n",
       "      <td>23.7</td>\n",
       "      <td>57.7</td>\n",
       "      <td>35</td>\n",
       "      <td>59.66</td>\n",
       "      <td>23.38</td>\n",
       "    </tr>\n",
       "    <tr>\n",
       "      <th>1</th>\n",
       "      <td>85</td>\n",
       "      <td>58</td>\n",
       "      <td>41</td>\n",
       "      <td>21.770462</td>\n",
       "      <td>80.319644</td>\n",
       "      <td>7.038096</td>\n",
       "      <td>226.655537</td>\n",
       "      <td>rice</td>\n",
       "      <td>23.4</td>\n",
       "      <td>57.2</td>\n",
       "      <td>33</td>\n",
       "      <td>56.85</td>\n",
       "      <td>23.19</td>\n",
       "    </tr>\n",
       "    <tr>\n",
       "      <th>2</th>\n",
       "      <td>60</td>\n",
       "      <td>55</td>\n",
       "      <td>44</td>\n",
       "      <td>23.004459</td>\n",
       "      <td>82.320763</td>\n",
       "      <td>7.840207</td>\n",
       "      <td>263.964248</td>\n",
       "      <td>rice</td>\n",
       "      <td>23.4</td>\n",
       "      <td>56.9</td>\n",
       "      <td>32</td>\n",
       "      <td>54.82</td>\n",
       "      <td>23.19</td>\n",
       "    </tr>\n",
       "    <tr>\n",
       "      <th>3</th>\n",
       "      <td>74</td>\n",
       "      <td>35</td>\n",
       "      <td>40</td>\n",
       "      <td>26.491096</td>\n",
       "      <td>80.158363</td>\n",
       "      <td>6.980401</td>\n",
       "      <td>242.864034</td>\n",
       "      <td>rice</td>\n",
       "      <td>23.5</td>\n",
       "      <td>56.8</td>\n",
       "      <td>33</td>\n",
       "      <td>53.24</td>\n",
       "      <td>23.19</td>\n",
       "    </tr>\n",
       "    <tr>\n",
       "      <th>4</th>\n",
       "      <td>78</td>\n",
       "      <td>42</td>\n",
       "      <td>42</td>\n",
       "      <td>20.130175</td>\n",
       "      <td>81.604873</td>\n",
       "      <td>7.628473</td>\n",
       "      <td>262.717340</td>\n",
       "      <td>rice</td>\n",
       "      <td>23.7</td>\n",
       "      <td>58.0</td>\n",
       "      <td>32</td>\n",
       "      <td>52.16</td>\n",
       "      <td>23.50</td>\n",
       "    </tr>\n",
       "  </tbody>\n",
       "</table>\n",
       "</div>"
      ],
      "text/plain": [
       "   Nitrogen Content  Phosphorous Content  Potassium Content  \\\n",
       "0                90                   42                 43   \n",
       "1                85                   58                 41   \n",
       "2                60                   55                 44   \n",
       "3                74                   35                 40   \n",
       "4                78                   42                 42   \n",
       "\n",
       "   Temperature in Celsius   Humidity  Potential of Hydrogen    Rainfall  \\\n",
       "0               20.879744  82.002744               6.502985  202.935536   \n",
       "1               21.770462  80.319644               7.038096  226.655537   \n",
       "2               23.004459  82.320763               7.840207  263.964248   \n",
       "3               26.491096  80.158363               6.980401  242.864034   \n",
       "4               20.130175  81.604873               7.628473  262.717340   \n",
       "\n",
       "  Crops chosen  weather_temperature  weather_humidity  solar_radiation  \\\n",
       "0         rice                 23.7              57.7               35   \n",
       "1         rice                 23.4              57.2               33   \n",
       "2         rice                 23.4              56.9               32   \n",
       "3         rice                 23.5              56.8               33   \n",
       "4         rice                 23.7              58.0               32   \n",
       "\n",
       "   soil_moisture  soil_temperature  \n",
       "0          59.66             23.38  \n",
       "1          56.85             23.19  \n",
       "2          54.82             23.19  \n",
       "3          53.24             23.19  \n",
       "4          52.16             23.50  "
      ]
     },
     "execution_count": 3,
     "metadata": {},
     "output_type": "execute_result"
    }
   ],
   "source": [
    "df.head()"
   ]
  },
  {
   "cell_type": "code",
   "execution_count": 4,
   "id": "cdfecb8a",
   "metadata": {},
   "outputs": [
    {
     "data": {
      "text/html": [
       "<div>\n",
       "<style scoped>\n",
       "    .dataframe tbody tr th:only-of-type {\n",
       "        vertical-align: middle;\n",
       "    }\n",
       "\n",
       "    .dataframe tbody tr th {\n",
       "        vertical-align: top;\n",
       "    }\n",
       "\n",
       "    .dataframe thead th {\n",
       "        text-align: right;\n",
       "    }\n",
       "</style>\n",
       "<table border=\"1\" class=\"dataframe\">\n",
       "  <thead>\n",
       "    <tr style=\"text-align: right;\">\n",
       "      <th></th>\n",
       "      <th>Nitrogen Content</th>\n",
       "      <th>Phosphorous Content</th>\n",
       "      <th>Potassium Content</th>\n",
       "      <th>Temperature in Celsius</th>\n",
       "      <th>Humidity</th>\n",
       "      <th>Potential of Hydrogen</th>\n",
       "      <th>Rainfall</th>\n",
       "      <th>Crops chosen</th>\n",
       "      <th>weather_temperature</th>\n",
       "      <th>weather_humidity</th>\n",
       "      <th>solar_radiation</th>\n",
       "      <th>soil_moisture</th>\n",
       "      <th>soil_temperature</th>\n",
       "    </tr>\n",
       "  </thead>\n",
       "  <tbody>\n",
       "    <tr>\n",
       "      <th>2195</th>\n",
       "      <td>107</td>\n",
       "      <td>34</td>\n",
       "      <td>32</td>\n",
       "      <td>26.774637</td>\n",
       "      <td>66.413269</td>\n",
       "      <td>6.780064</td>\n",
       "      <td>177.774507</td>\n",
       "      <td>coffee</td>\n",
       "      <td>25.8</td>\n",
       "      <td>50.2</td>\n",
       "      <td>68</td>\n",
       "      <td>50.70</td>\n",
       "      <td>25.56</td>\n",
       "    </tr>\n",
       "    <tr>\n",
       "      <th>2196</th>\n",
       "      <td>99</td>\n",
       "      <td>15</td>\n",
       "      <td>27</td>\n",
       "      <td>27.417112</td>\n",
       "      <td>56.636362</td>\n",
       "      <td>6.086922</td>\n",
       "      <td>127.924610</td>\n",
       "      <td>coffee</td>\n",
       "      <td>25.9</td>\n",
       "      <td>50.3</td>\n",
       "      <td>69</td>\n",
       "      <td>50.48</td>\n",
       "      <td>25.56</td>\n",
       "    </tr>\n",
       "    <tr>\n",
       "      <th>2197</th>\n",
       "      <td>118</td>\n",
       "      <td>33</td>\n",
       "      <td>30</td>\n",
       "      <td>24.131797</td>\n",
       "      <td>67.225123</td>\n",
       "      <td>6.362608</td>\n",
       "      <td>173.322839</td>\n",
       "      <td>coffee</td>\n",
       "      <td>25.9</td>\n",
       "      <td>50.3</td>\n",
       "      <td>69</td>\n",
       "      <td>50.45</td>\n",
       "      <td>25.56</td>\n",
       "    </tr>\n",
       "    <tr>\n",
       "      <th>2198</th>\n",
       "      <td>117</td>\n",
       "      <td>32</td>\n",
       "      <td>34</td>\n",
       "      <td>26.272418</td>\n",
       "      <td>52.127394</td>\n",
       "      <td>6.758793</td>\n",
       "      <td>127.175293</td>\n",
       "      <td>coffee</td>\n",
       "      <td>25.9</td>\n",
       "      <td>50.2</td>\n",
       "      <td>69</td>\n",
       "      <td>50.62</td>\n",
       "      <td>25.56</td>\n",
       "    </tr>\n",
       "    <tr>\n",
       "      <th>2199</th>\n",
       "      <td>104</td>\n",
       "      <td>18</td>\n",
       "      <td>30</td>\n",
       "      <td>23.603016</td>\n",
       "      <td>60.396475</td>\n",
       "      <td>6.779833</td>\n",
       "      <td>140.937041</td>\n",
       "      <td>coffee</td>\n",
       "      <td>25.9</td>\n",
       "      <td>50.2</td>\n",
       "      <td>69</td>\n",
       "      <td>50.43</td>\n",
       "      <td>25.50</td>\n",
       "    </tr>\n",
       "  </tbody>\n",
       "</table>\n",
       "</div>"
      ],
      "text/plain": [
       "      Nitrogen Content  Phosphorous Content  Potassium Content  \\\n",
       "2195               107                   34                 32   \n",
       "2196                99                   15                 27   \n",
       "2197               118                   33                 30   \n",
       "2198               117                   32                 34   \n",
       "2199               104                   18                 30   \n",
       "\n",
       "      Temperature in Celsius   Humidity  Potential of Hydrogen    Rainfall  \\\n",
       "2195               26.774637  66.413269               6.780064  177.774507   \n",
       "2196               27.417112  56.636362               6.086922  127.924610   \n",
       "2197               24.131797  67.225123               6.362608  173.322839   \n",
       "2198               26.272418  52.127394               6.758793  127.175293   \n",
       "2199               23.603016  60.396475               6.779833  140.937041   \n",
       "\n",
       "     Crops chosen  weather_temperature  weather_humidity  solar_radiation  \\\n",
       "2195       coffee                 25.8              50.2               68   \n",
       "2196       coffee                 25.9              50.3               69   \n",
       "2197       coffee                 25.9              50.3               69   \n",
       "2198       coffee                 25.9              50.2               69   \n",
       "2199       coffee                 25.9              50.2               69   \n",
       "\n",
       "      soil_moisture  soil_temperature  \n",
       "2195          50.70             25.56  \n",
       "2196          50.48             25.56  \n",
       "2197          50.45             25.56  \n",
       "2198          50.62             25.56  \n",
       "2199          50.43             25.50  "
      ]
     },
     "execution_count": 4,
     "metadata": {},
     "output_type": "execute_result"
    }
   ],
   "source": [
    "df.tail()"
   ]
  },
  {
   "cell_type": "code",
   "execution_count": 5,
   "id": "d5a36e9b",
   "metadata": {},
   "outputs": [
    {
     "data": {
      "text/html": [
       "<div>\n",
       "<style scoped>\n",
       "    .dataframe tbody tr th:only-of-type {\n",
       "        vertical-align: middle;\n",
       "    }\n",
       "\n",
       "    .dataframe tbody tr th {\n",
       "        vertical-align: top;\n",
       "    }\n",
       "\n",
       "    .dataframe thead th {\n",
       "        text-align: right;\n",
       "    }\n",
       "</style>\n",
       "<table border=\"1\" class=\"dataframe\">\n",
       "  <thead>\n",
       "    <tr style=\"text-align: right;\">\n",
       "      <th></th>\n",
       "      <th>Nitrogen Content</th>\n",
       "      <th>Phosphorous Content</th>\n",
       "      <th>Potassium Content</th>\n",
       "      <th>Temperature in Celsius</th>\n",
       "      <th>Humidity</th>\n",
       "      <th>Potential of Hydrogen</th>\n",
       "      <th>Rainfall</th>\n",
       "      <th>Crops chosen</th>\n",
       "      <th>weather_temperature</th>\n",
       "      <th>weather_humidity</th>\n",
       "      <th>solar_radiation</th>\n",
       "      <th>soil_moisture</th>\n",
       "      <th>soil_temperature</th>\n",
       "    </tr>\n",
       "  </thead>\n",
       "  <tbody>\n",
       "    <tr>\n",
       "      <th>0</th>\n",
       "      <td>90</td>\n",
       "      <td>42</td>\n",
       "      <td>43</td>\n",
       "      <td>20.879744</td>\n",
       "      <td>82.002744</td>\n",
       "      <td>6.502985</td>\n",
       "      <td>202.935536</td>\n",
       "      <td>rice</td>\n",
       "      <td>23.7</td>\n",
       "      <td>57.7</td>\n",
       "      <td>35</td>\n",
       "      <td>59.66</td>\n",
       "      <td>23.38</td>\n",
       "    </tr>\n",
       "    <tr>\n",
       "      <th>1</th>\n",
       "      <td>85</td>\n",
       "      <td>58</td>\n",
       "      <td>41</td>\n",
       "      <td>21.770462</td>\n",
       "      <td>80.319644</td>\n",
       "      <td>7.038096</td>\n",
       "      <td>226.655537</td>\n",
       "      <td>rice</td>\n",
       "      <td>23.4</td>\n",
       "      <td>57.2</td>\n",
       "      <td>33</td>\n",
       "      <td>56.85</td>\n",
       "      <td>23.19</td>\n",
       "    </tr>\n",
       "    <tr>\n",
       "      <th>2</th>\n",
       "      <td>60</td>\n",
       "      <td>55</td>\n",
       "      <td>44</td>\n",
       "      <td>23.004459</td>\n",
       "      <td>82.320763</td>\n",
       "      <td>7.840207</td>\n",
       "      <td>263.964248</td>\n",
       "      <td>rice</td>\n",
       "      <td>23.4</td>\n",
       "      <td>56.9</td>\n",
       "      <td>32</td>\n",
       "      <td>54.82</td>\n",
       "      <td>23.19</td>\n",
       "    </tr>\n",
       "    <tr>\n",
       "      <th>3</th>\n",
       "      <td>74</td>\n",
       "      <td>35</td>\n",
       "      <td>40</td>\n",
       "      <td>26.491096</td>\n",
       "      <td>80.158363</td>\n",
       "      <td>6.980401</td>\n",
       "      <td>242.864034</td>\n",
       "      <td>rice</td>\n",
       "      <td>23.5</td>\n",
       "      <td>56.8</td>\n",
       "      <td>33</td>\n",
       "      <td>53.24</td>\n",
       "      <td>23.19</td>\n",
       "    </tr>\n",
       "    <tr>\n",
       "      <th>4</th>\n",
       "      <td>78</td>\n",
       "      <td>42</td>\n",
       "      <td>42</td>\n",
       "      <td>20.130175</td>\n",
       "      <td>81.604873</td>\n",
       "      <td>7.628473</td>\n",
       "      <td>262.717340</td>\n",
       "      <td>rice</td>\n",
       "      <td>23.7</td>\n",
       "      <td>58.0</td>\n",
       "      <td>32</td>\n",
       "      <td>52.16</td>\n",
       "      <td>23.50</td>\n",
       "    </tr>\n",
       "    <tr>\n",
       "      <th>...</th>\n",
       "      <td>...</td>\n",
       "      <td>...</td>\n",
       "      <td>...</td>\n",
       "      <td>...</td>\n",
       "      <td>...</td>\n",
       "      <td>...</td>\n",
       "      <td>...</td>\n",
       "      <td>...</td>\n",
       "      <td>...</td>\n",
       "      <td>...</td>\n",
       "      <td>...</td>\n",
       "      <td>...</td>\n",
       "      <td>...</td>\n",
       "    </tr>\n",
       "    <tr>\n",
       "      <th>2195</th>\n",
       "      <td>107</td>\n",
       "      <td>34</td>\n",
       "      <td>32</td>\n",
       "      <td>26.774637</td>\n",
       "      <td>66.413269</td>\n",
       "      <td>6.780064</td>\n",
       "      <td>177.774507</td>\n",
       "      <td>coffee</td>\n",
       "      <td>25.8</td>\n",
       "      <td>50.2</td>\n",
       "      <td>68</td>\n",
       "      <td>50.70</td>\n",
       "      <td>25.56</td>\n",
       "    </tr>\n",
       "    <tr>\n",
       "      <th>2196</th>\n",
       "      <td>99</td>\n",
       "      <td>15</td>\n",
       "      <td>27</td>\n",
       "      <td>27.417112</td>\n",
       "      <td>56.636362</td>\n",
       "      <td>6.086922</td>\n",
       "      <td>127.924610</td>\n",
       "      <td>coffee</td>\n",
       "      <td>25.9</td>\n",
       "      <td>50.3</td>\n",
       "      <td>69</td>\n",
       "      <td>50.48</td>\n",
       "      <td>25.56</td>\n",
       "    </tr>\n",
       "    <tr>\n",
       "      <th>2197</th>\n",
       "      <td>118</td>\n",
       "      <td>33</td>\n",
       "      <td>30</td>\n",
       "      <td>24.131797</td>\n",
       "      <td>67.225123</td>\n",
       "      <td>6.362608</td>\n",
       "      <td>173.322839</td>\n",
       "      <td>coffee</td>\n",
       "      <td>25.9</td>\n",
       "      <td>50.3</td>\n",
       "      <td>69</td>\n",
       "      <td>50.45</td>\n",
       "      <td>25.56</td>\n",
       "    </tr>\n",
       "    <tr>\n",
       "      <th>2198</th>\n",
       "      <td>117</td>\n",
       "      <td>32</td>\n",
       "      <td>34</td>\n",
       "      <td>26.272418</td>\n",
       "      <td>52.127394</td>\n",
       "      <td>6.758793</td>\n",
       "      <td>127.175293</td>\n",
       "      <td>coffee</td>\n",
       "      <td>25.9</td>\n",
       "      <td>50.2</td>\n",
       "      <td>69</td>\n",
       "      <td>50.62</td>\n",
       "      <td>25.56</td>\n",
       "    </tr>\n",
       "    <tr>\n",
       "      <th>2199</th>\n",
       "      <td>104</td>\n",
       "      <td>18</td>\n",
       "      <td>30</td>\n",
       "      <td>23.603016</td>\n",
       "      <td>60.396475</td>\n",
       "      <td>6.779833</td>\n",
       "      <td>140.937041</td>\n",
       "      <td>coffee</td>\n",
       "      <td>25.9</td>\n",
       "      <td>50.2</td>\n",
       "      <td>69</td>\n",
       "      <td>50.43</td>\n",
       "      <td>25.50</td>\n",
       "    </tr>\n",
       "  </tbody>\n",
       "</table>\n",
       "<p>2200 rows × 13 columns</p>\n",
       "</div>"
      ],
      "text/plain": [
       "      Nitrogen Content  Phosphorous Content  Potassium Content  \\\n",
       "0                   90                   42                 43   \n",
       "1                   85                   58                 41   \n",
       "2                   60                   55                 44   \n",
       "3                   74                   35                 40   \n",
       "4                   78                   42                 42   \n",
       "...                ...                  ...                ...   \n",
       "2195               107                   34                 32   \n",
       "2196                99                   15                 27   \n",
       "2197               118                   33                 30   \n",
       "2198               117                   32                 34   \n",
       "2199               104                   18                 30   \n",
       "\n",
       "      Temperature in Celsius   Humidity  Potential of Hydrogen    Rainfall  \\\n",
       "0                  20.879744  82.002744               6.502985  202.935536   \n",
       "1                  21.770462  80.319644               7.038096  226.655537   \n",
       "2                  23.004459  82.320763               7.840207  263.964248   \n",
       "3                  26.491096  80.158363               6.980401  242.864034   \n",
       "4                  20.130175  81.604873               7.628473  262.717340   \n",
       "...                      ...        ...                    ...         ...   \n",
       "2195               26.774637  66.413269               6.780064  177.774507   \n",
       "2196               27.417112  56.636362               6.086922  127.924610   \n",
       "2197               24.131797  67.225123               6.362608  173.322839   \n",
       "2198               26.272418  52.127394               6.758793  127.175293   \n",
       "2199               23.603016  60.396475               6.779833  140.937041   \n",
       "\n",
       "     Crops chosen  weather_temperature  weather_humidity  solar_radiation  \\\n",
       "0            rice                 23.7              57.7               35   \n",
       "1            rice                 23.4              57.2               33   \n",
       "2            rice                 23.4              56.9               32   \n",
       "3            rice                 23.5              56.8               33   \n",
       "4            rice                 23.7              58.0               32   \n",
       "...           ...                  ...               ...              ...   \n",
       "2195       coffee                 25.8              50.2               68   \n",
       "2196       coffee                 25.9              50.3               69   \n",
       "2197       coffee                 25.9              50.3               69   \n",
       "2198       coffee                 25.9              50.2               69   \n",
       "2199       coffee                 25.9              50.2               69   \n",
       "\n",
       "      soil_moisture  soil_temperature  \n",
       "0             59.66             23.38  \n",
       "1             56.85             23.19  \n",
       "2             54.82             23.19  \n",
       "3             53.24             23.19  \n",
       "4             52.16             23.50  \n",
       "...             ...               ...  \n",
       "2195          50.70             25.56  \n",
       "2196          50.48             25.56  \n",
       "2197          50.45             25.56  \n",
       "2198          50.62             25.56  \n",
       "2199          50.43             25.50  \n",
       "\n",
       "[2200 rows x 13 columns]"
      ]
     },
     "execution_count": 5,
     "metadata": {},
     "output_type": "execute_result"
    }
   ],
   "source": [
    "df"
   ]
  },
  {
   "cell_type": "code",
   "execution_count": 6,
   "id": "79408d88",
   "metadata": {},
   "outputs": [
    {
     "data": {
      "text/plain": [
       "28600"
      ]
     },
     "execution_count": 6,
     "metadata": {},
     "output_type": "execute_result"
    }
   ],
   "source": [
    "df.size"
   ]
  },
  {
   "cell_type": "code",
   "execution_count": 7,
   "id": "0add5c14",
   "metadata": {},
   "outputs": [
    {
     "data": {
      "text/plain": [
       "(2200, 13)"
      ]
     },
     "execution_count": 7,
     "metadata": {},
     "output_type": "execute_result"
    }
   ],
   "source": [
    "df.shape"
   ]
  },
  {
   "cell_type": "code",
   "execution_count": 8,
   "id": "0f86c00a",
   "metadata": {},
   "outputs": [
    {
     "data": {
      "text/plain": [
       "Index(['Nitrogen Content', 'Phosphorous Content', 'Potassium Content',\n",
       "       'Temperature in Celsius', 'Humidity', 'Potential of Hydrogen',\n",
       "       'Rainfall', 'Crops chosen', 'weather_temperature', 'weather_humidity',\n",
       "       'solar_radiation', 'soil_moisture', 'soil_temperature'],\n",
       "      dtype='object')"
      ]
     },
     "execution_count": 8,
     "metadata": {},
     "output_type": "execute_result"
    }
   ],
   "source": [
    "df.columns"
   ]
  },
  {
   "cell_type": "code",
   "execution_count": 9,
   "id": "87d994e6",
   "metadata": {},
   "outputs": [
    {
     "data": {
      "text/plain": [
       "array(['rice', 'maize', 'chickpea', 'kidneybeans', 'pigeonpeas',\n",
       "       'mothbeans', 'mungbean', 'blackgram', 'lentil', 'pomegranate',\n",
       "       'banana', 'mango', 'grapes', 'watermelon', 'muskmelon', 'apple',\n",
       "       'orange', 'papaya', 'coconut', 'cotton', 'jute', 'coffee'],\n",
       "      dtype=object)"
      ]
     },
     "execution_count": 9,
     "metadata": {},
     "output_type": "execute_result"
    }
   ],
   "source": [
    "df['Crops chosen'].unique()"
   ]
  },
  {
   "cell_type": "code",
   "execution_count": 10,
   "id": "47ef63f0",
   "metadata": {},
   "outputs": [
    {
     "data": {
      "text/plain": [
       "Nitrogen Content            int64\n",
       "Phosphorous Content         int64\n",
       "Potassium Content           int64\n",
       "Temperature in Celsius    float64\n",
       "Humidity                  float64\n",
       "Potential of Hydrogen     float64\n",
       "Rainfall                  float64\n",
       "Crops chosen               object\n",
       "weather_temperature       float64\n",
       "weather_humidity          float64\n",
       "solar_radiation             int64\n",
       "soil_moisture             float64\n",
       "soil_temperature          float64\n",
       "dtype: object"
      ]
     },
     "execution_count": 10,
     "metadata": {},
     "output_type": "execute_result"
    }
   ],
   "source": [
    "df.dtypes\n"
   ]
  },
  {
   "cell_type": "code",
   "execution_count": 11,
   "id": "549b7d75",
   "metadata": {},
   "outputs": [
    {
     "data": {
      "text/plain": [
       "rice           100\n",
       "maize          100\n",
       "jute           100\n",
       "cotton         100\n",
       "coconut        100\n",
       "papaya         100\n",
       "orange         100\n",
       "apple          100\n",
       "muskmelon      100\n",
       "watermelon     100\n",
       "grapes         100\n",
       "mango          100\n",
       "banana         100\n",
       "pomegranate    100\n",
       "lentil         100\n",
       "blackgram      100\n",
       "mungbean       100\n",
       "mothbeans      100\n",
       "pigeonpeas     100\n",
       "kidneybeans    100\n",
       "chickpea       100\n",
       "coffee         100\n",
       "Name: Crops chosen, dtype: int64"
      ]
     },
     "execution_count": 11,
     "metadata": {},
     "output_type": "execute_result"
    }
   ],
   "source": [
    "df['Crops chosen'].value_counts()"
   ]
  },
  {
   "cell_type": "code",
   "execution_count": 12,
   "id": "dbea436b",
   "metadata": {},
   "outputs": [
    {
     "data": {
      "text/plain": [
       "<AxesSubplot: >"
      ]
     },
     "execution_count": 12,
     "metadata": {},
     "output_type": "execute_result"
    },
    {
     "data": {
      "image/png": "[encoded data removed]",
      "text/plain": [
       "<Figure size 640x480 with 2 Axes>"
      ]
     },
     "metadata": {},
     "output_type": "display_data"
    }
   ],
   "source": [
    "sns.heatmap(df.corr(),annot=True)"
   ]
  },
  {
   "cell_type": "code",
   "execution_count": 15,
   "id": "00879599",
   "metadata": {},
   "outputs": [],
   "source": [
    "features = df[['Nitrogen Content','Phosphorous Content','Potassium Content','Temperature in Celsius','Humidity','Potential of Hydrogen','Rainfall', 'weather_temperature','weather_humidity','solar_radiation','soil_moisture','soil_temperature']]\n",
    "target = df['Crops chosen']\n",
    "#features = df[['Temperature in Celsius','Humidity','Potential of Hydrogen','Rainfall']]\n",
    "labels = df['Crops chosen']"
   ]
  },
  {
   "cell_type": "code",
   "execution_count": 16,
   "id": "6d99fc14",
   "metadata": {},
   "outputs": [],
   "source": [
    "# Splitting into train and test data\n",
    "\n",
    "from sklearn.model_selection import train_test_split\n",
    "Xtrain, Xtest, Ytrain, Ytest = train_test_split(features,target,test_size = 0.2,random_state =2)"
   ]
  },
  {
   "cell_type": "code",
   "execution_count": 17,
   "id": "39410e7e",
   "metadata": {},
   "outputs": [],
   "source": [
    "# Initialzing empty lists to append all model's name and corresponding name\n",
    "acc = []\n",
    "model = []"
   ]
  },
  {
   "cell_type": "markdown",
   "id": "67999d5e",
   "metadata": {},
   "source": [
    "# random forest"
   ]
  },
  {
   "cell_type": "code",
   "execution_count": 18,
   "id": "4f38fd4c",
   "metadata": {},
   "outputs": [
    {
     "name": "stdout",
     "output_type": "stream",
     "text": [
      "RF's Accuracy is:  99.31818181818181\n",
      "              precision    recall  f1-score   support\n",
      "\n",
      "       apple       1.00      1.00      1.00        13\n",
      "      banana       1.00      1.00      1.00        17\n",
      "   blackgram       1.00      1.00      1.00        16\n",
      "    chickpea       1.00      1.00      1.00        21\n",
      "     coconut       1.00      1.00      1.00        21\n",
      "      coffee       1.00      1.00      1.00        22\n",
      "      cotton       1.00      1.00      1.00        20\n",
      "      grapes       1.00      1.00      1.00        18\n",
      "        jute       1.00      0.89      0.94        28\n",
      " kidneybeans       1.00      1.00      1.00        14\n",
      "      lentil       1.00      1.00      1.00        23\n",
      "       maize       1.00      1.00      1.00        21\n",
      "       mango       1.00      1.00      1.00        26\n",
      "   mothbeans       1.00      1.00      1.00        19\n",
      "    mungbean       1.00      1.00      1.00        24\n",
      "   muskmelon       1.00      1.00      1.00        23\n",
      "      orange       1.00      1.00      1.00        29\n",
      "      papaya       1.00      1.00      1.00        19\n",
      "  pigeonpeas       1.00      1.00      1.00        18\n",
      " pomegranate       1.00      1.00      1.00        17\n",
      "        rice       0.84      1.00      0.91        16\n",
      "  watermelon       1.00      1.00      1.00        15\n",
      "\n",
      "    accuracy                           0.99       440\n",
      "   macro avg       0.99      1.00      0.99       440\n",
      "weighted avg       0.99      0.99      0.99       440\n",
      "\n"
     ]
    }
   ],
   "source": [
    "from sklearn.ensemble import RandomForestClassifier as rf\n",
    "\n",
    "RF = rf(n_estimators=20, random_state=0)\n",
    "RF.fit(Xtrain,Ytrain)\n",
    "\n",
    "predicted_values = RF.predict(Xtest)\n",
    "\n",
    "x = metrics.accuracy_score(Ytest, predicted_values)\n",
    "acc.append(x)\n",
    "model.append('RF')\n",
    "print(\"RF's Accuracy is: \", x*100)\n",
    "\n",
    "print(classification_report(Ytest,predicted_values))"
   ]
  },
  {
   "cell_type": "code",
   "execution_count": 19,
   "id": "0a41d931",
   "metadata": {},
   "outputs": [
    {
     "data": {
      "text/plain": [
       "array([0.97727273, 0.99772727, 1.        , 1.        , 0.88636364])"
      ]
     },
     "execution_count": 19,
     "metadata": {},
     "output_type": "execute_result"
    }
   ],
   "source": [
    "# Cross validation score (Random Forest)\n",
    "score = cross_val_score(RF,features,target,cv=5)\n",
    "score"
   ]
  },
  {
   "cell_type": "code",
   "execution_count": 20,
   "id": "9d860619",
   "metadata": {},
   "outputs": [
    {
     "name": "stdout",
     "output_type": "stream",
     "text": [
      "after the inputs provided by you, we recommend you to choose ['rice']\n"
     ]
    }
   ],
   "source": [
    "data = np.array([[85,58,41,21.77046169,80.31964408,7.038096361,226.6555374,23.4,57.2,33,56.85,23.19]])\n",
    "prediction = RF.predict(data)\n",
    "print(\"after the inputs provided by you, we recommend you to choose\", prediction)"
   ]
  },
  {
   "cell_type": "code",
   "execution_count": 21,
   "id": "a4599786",
   "metadata": {},
   "outputs": [
    {
     "name": "stdout",
     "output_type": "stream",
     "text": [
      "after the inputs provided by you, we recommend you to choose ['papaya']\n"
     ]
    }
   ],
   "source": [
    "data = np.array([[56,65,45,38.2016825,93.97379963,6.751298936,218.0908814,29,45.1,58,50.79,28.94]])\n",
    "prediction = RF.predict(data)\n",
    "print(\"after the inputs provided by you, we recommend you to choose\", prediction)"
   ]
  },
  {
   "cell_type": "code",
   "execution_count": 22,
   "id": "5fb4b43c",
   "metadata": {},
   "outputs": [],
   "source": [
    "import pickle\n"
   ]
  },
  {
   "cell_type": "code",
   "execution_count": 23,
   "id": "2fa777dc",
   "metadata": {},
   "outputs": [],
   "source": [
    "filename='randomforestmodel.pkl'"
   ]
  },
  {
   "cell_type": "code",
   "execution_count": 24,
   "id": "6f414602",
   "metadata": {},
   "outputs": [],
   "source": [
    "pickle.dump(RF, open(filename, 'wb'))"
   ]
  },
  {
   "cell_type": "markdown",
   "id": "984aa342",
   "metadata": {},
   "source": [
    "# decision tree"
   ]
  },
  {
   "cell_type": "code",
   "execution_count": 26,
   "id": "a4d43761",
   "metadata": {},
   "outputs": [
    {
     "name": "stdout",
     "output_type": "stream",
     "text": [
      "DecisionTrees's Accuracy is:  97.72727272727273\n",
      "              precision    recall  f1-score   support\n",
      "\n",
      "       apple       1.00      1.00      1.00        13\n",
      "      banana       1.00      1.00      1.00        17\n",
      "   blackgram       1.00      1.00      1.00        16\n",
      "    chickpea       1.00      1.00      1.00        21\n",
      "     coconut       1.00      1.00      1.00        21\n",
      "      coffee       1.00      1.00      1.00        22\n",
      "      cotton       1.00      1.00      1.00        20\n",
      "      grapes       1.00      1.00      1.00        18\n",
      "        jute       0.82      1.00      0.90        28\n",
      " kidneybeans       1.00      1.00      1.00        14\n",
      "      lentil       1.00      1.00      1.00        23\n",
      "       maize       1.00      1.00      1.00        21\n",
      "       mango       0.87      1.00      0.93        26\n",
      "   mothbeans       1.00      1.00      1.00        19\n",
      "    mungbean       1.00      1.00      1.00        24\n",
      "   muskmelon       1.00      1.00      1.00        23\n",
      "      orange       1.00      1.00      1.00        29\n",
      "      papaya       1.00      1.00      1.00        19\n",
      "  pigeonpeas       1.00      0.78      0.88        18\n",
      " pomegranate       1.00      1.00      1.00        17\n",
      "        rice       1.00      0.62      0.77        16\n",
      "  watermelon       1.00      1.00      1.00        15\n",
      "\n",
      "    accuracy                           0.98       440\n",
      "   macro avg       0.99      0.97      0.98       440\n",
      "weighted avg       0.98      0.98      0.98       440\n",
      "\n"
     ]
    }
   ],
   "source": [
    "from sklearn.tree import DecisionTreeClassifier as DC\n",
    "\n",
    "DT = DC(criterion=\"entropy\",random_state=2,max_depth=5)\n",
    "\n",
    "DT.fit(Xtrain,Ytrain)\n",
    "\n",
    "predicted_values = DT.predict(Xtest)\n",
    "x = metrics.accuracy_score(Ytest, predicted_values)\n",
    "acc.append(x)\n",
    "model.append('Decision Tree')\n",
    "print(\"DecisionTrees's Accuracy is: \", x*100)\n",
    "\n",
    "print(classification_report(Ytest,predicted_values))"
   ]
  },
  {
   "cell_type": "code",
   "execution_count": 27,
   "id": "1a403ee7",
   "metadata": {},
   "outputs": [
    {
     "data": {
      "text/plain": [
       "array([0.94090909, 0.95      , 0.91590909, 0.97954545, 0.88636364])"
      ]
     },
     "execution_count": 27,
     "metadata": {},
     "output_type": "execute_result"
    }
   ],
   "source": [
    "score = cross_val_score(DT, features, target,cv=5)\n",
    "score"
   ]
  },
  {
   "cell_type": "code",
   "execution_count": 28,
   "id": "12eb6ced",
   "metadata": {},
   "outputs": [
    {
     "name": "stdout",
     "output_type": "stream",
     "text": [
      "After the assimilation of all available inputs parameters, the recommendation module recommends the crop as : ['rice']\n"
     ]
    }
   ],
   "source": [
    "data = np.array([[85,58,41,21.77046169,80.31964408,7.038096361,226.6555374,23.4,57.2,33,56.85,23.19]])\n",
    "prediction = DT.predict(data)\n",
    "print(\"After the assimilation of all available inputs parameters, the recommendation module recommends the crop as :\", prediction)"
   ]
  },
  {
   "cell_type": "markdown",
   "id": "f897786d",
   "metadata": {},
   "source": [
    "# gaussian naive bayes"
   ]
  },
  {
   "cell_type": "code",
   "execution_count": 29,
   "id": "f3df595d",
   "metadata": {},
   "outputs": [
    {
     "name": "stdout",
     "output_type": "stream",
     "text": [
      "Naive Bayes's Accuracy is:  98.18181818181819\n",
      "              precision    recall  f1-score   support\n",
      "\n",
      "       apple       1.00      1.00      1.00        13\n",
      "      banana       1.00      1.00      1.00        17\n",
      "   blackgram       1.00      1.00      1.00        16\n",
      "    chickpea       1.00      1.00      1.00        21\n",
      "     coconut       1.00      1.00      1.00        21\n",
      "      coffee       0.84      0.95      0.89        22\n",
      "      cotton       0.95      1.00      0.98        20\n",
      "      grapes       1.00      1.00      1.00        18\n",
      "        jute       0.96      0.86      0.91        28\n",
      " kidneybeans       1.00      1.00      1.00        14\n",
      "      lentil       1.00      1.00      1.00        23\n",
      "       maize       1.00      0.86      0.92        21\n",
      "       mango       1.00      1.00      1.00        26\n",
      "   mothbeans       1.00      1.00      1.00        19\n",
      "    mungbean       1.00      1.00      1.00        24\n",
      "   muskmelon       1.00      1.00      1.00        23\n",
      "      orange       1.00      1.00      1.00        29\n",
      "      papaya       1.00      1.00      1.00        19\n",
      "  pigeonpeas       1.00      1.00      1.00        18\n",
      " pomegranate       1.00      1.00      1.00        17\n",
      "        rice       0.89      1.00      0.94        16\n",
      "  watermelon       1.00      1.00      1.00        15\n",
      "\n",
      "    accuracy                           0.98       440\n",
      "   macro avg       0.98      0.98      0.98       440\n",
      "weighted avg       0.98      0.98      0.98       440\n",
      "\n"
     ]
    }
   ],
   "source": [
    "from sklearn.naive_bayes import GaussianNB as NB\n",
    "\n",
    "N =NB()\n",
    "\n",
    "N.fit(Xtrain,Ytrain)\n",
    "\n",
    "predicted_values = N.predict(Xtest)\n",
    "x = metrics.accuracy_score(Ytest, predicted_values)\n",
    "acc.append(x)\n",
    "model.append('Naive Bayes')\n",
    "print(\"Naive Bayes's Accuracy is: \", x*100)\n",
    "\n",
    "print(classification_report(Ytest,predicted_values))"
   ]
  },
  {
   "cell_type": "code",
   "execution_count": 30,
   "id": "73a505e6",
   "metadata": {},
   "outputs": [
    {
     "data": {
      "text/plain": [
       "array([0.95227273, 0.98863636, 0.99090909, 0.98863636, 0.76590909])"
      ]
     },
     "execution_count": 30,
     "metadata": {},
     "output_type": "execute_result"
    }
   ],
   "source": [
    "# Cross validation score (NaiveBayes)\n",
    "score = cross_val_score(N,features,target,cv=5)\n",
    "score"
   ]
  },
  {
   "cell_type": "code",
   "execution_count": 31,
   "id": "1d6e2acd",
   "metadata": {},
   "outputs": [
    {
     "name": "stdout",
     "output_type": "stream",
     "text": [
      "after the inputs provided by you, we recommend you to choose ['rice']\n"
     ]
    }
   ],
   "source": [
    "data = np.array([[85,58,41,21.77046169,80.31964408,7.038096361,226.6555374,23.4,57.2,33,56.85,23.19]])\n",
    "prediction = N.predict(data)\n",
    "print(\"after the inputs provided by you, we recommend you to choose\", prediction)"
   ]
  },
  {
   "cell_type": "markdown",
   "id": "d5c1bb07",
   "metadata": {},
   "source": [
    "# logistic regression\n"
   ]
  },
  {
   "cell_type": "code",
   "execution_count": 154,
   "id": "b173daff",
   "metadata": {},
   "outputs": [
    {
     "name": "stdout",
     "output_type": "stream",
     "text": [
      "Logistic Regression's Accuracy is:  98.18181818181819\n",
      "              precision    recall  f1-score   support\n",
      "\n",
      "       apple       1.00      1.00      1.00        13\n",
      "      banana       1.00      1.00      1.00        17\n",
      "   blackgram       1.00      1.00      1.00        16\n",
      "    chickpea       1.00      1.00      1.00        21\n",
      "     coconut       1.00      1.00      1.00        21\n",
      "      coffee       1.00      1.00      1.00        22\n",
      "      cotton       0.95      1.00      0.98        20\n",
      "      grapes       1.00      1.00      1.00        18\n",
      "        jute       0.92      0.82      0.87        28\n",
      " kidneybeans       1.00      1.00      1.00        14\n",
      "      lentil       1.00      1.00      1.00        23\n",
      "       maize       1.00      0.95      0.98        21\n",
      "       mango       1.00      1.00      1.00        26\n",
      "   mothbeans       1.00      1.00      1.00        19\n",
      "    mungbean       1.00      1.00      1.00        24\n",
      "   muskmelon       1.00      1.00      1.00        23\n",
      "      orange       1.00      1.00      1.00        29\n",
      "      papaya       1.00      1.00      1.00        19\n",
      "  pigeonpeas       1.00      1.00      1.00        18\n",
      " pomegranate       1.00      1.00      1.00        17\n",
      "        rice       0.74      0.88      0.80        16\n",
      "  watermelon       1.00      1.00      1.00        15\n",
      "\n",
      "    accuracy                           0.98       440\n",
      "   macro avg       0.98      0.98      0.98       440\n",
      "weighted avg       0.98      0.98      0.98       440\n",
      "\n"
     ]
    }
   ],
   "source": [
    "from sklearn.linear_model import LogisticRegression as LG\n",
    "\n",
    "LR = LG(random_state=2)\n",
    "\n",
    "LR.fit(Xtrain,Ytrain)\n",
    "\n",
    "predicted_values = LR.predict(Xtest)\n",
    "\n",
    "x = metrics.accuracy_score(Ytest, predicted_values)\n",
    "acc.append(x)\n",
    "model.append('Logistic Regression')\n",
    "print(\"Logistic Regression's Accuracy is: \", x*100)\n",
    "\n",
    "print(classification_report(Ytest,predicted_values))"
   ]
  },
  {
   "cell_type": "code",
   "execution_count": 147,
   "id": "5ebe149a",
   "metadata": {},
   "outputs": [
    {
     "data": {
      "text/plain": [
       "array([0.94318182, 0.98181818, 0.98409091, 0.98409091, 0.96363636])"
      ]
     },
     "execution_count": 147,
     "metadata": {},
     "output_type": "execute_result"
    }
   ],
   "source": [
    "# Cross validation score (Logistic Regression)\n",
    "score = cross_val_score(LR,features,target,cv=5)\n",
    "score\n"
   ]
  },
  {
   "cell_type": "code",
   "execution_count": 148,
   "id": "bb1f847b",
   "metadata": {},
   "outputs": [
    {
     "name": "stdout",
     "output_type": "stream",
     "text": [
      "after the inputs provided by you, we recommend you to choose ['rice']\n"
     ]
    }
   ],
   "source": [
    "data = np.array([[85,58,41,21.77046169,80.31964408,7.038096361,226.6555374,23.4,57.2,33,56.85,23.19]])\n",
    "prediction = LR.predict(data)\n",
    "print(\"after the inputs provided by you, we recommend you to choose\", prediction)"
   ]
  },
  {
   "cell_type": "markdown",
   "id": "50ed1a9b",
   "metadata": {},
   "source": [
    "# svm"
   ]
  },
  {
   "cell_type": "code",
   "execution_count": 155,
   "id": "660e699e",
   "metadata": {},
   "outputs": [
    {
     "name": "stdout",
     "output_type": "stream",
     "text": [
      "SVM's Accuracy is:  98.4090909090909\n",
      "              precision    recall  f1-score   support\n",
      "\n",
      "       apple       1.00      1.00      1.00        13\n",
      "      banana       1.00      1.00      1.00        17\n",
      "   blackgram       1.00      1.00      1.00        16\n",
      "    chickpea       1.00      1.00      1.00        21\n",
      "     coconut       1.00      1.00      1.00        21\n",
      "      coffee       0.96      1.00      0.98        22\n",
      "      cotton       1.00      1.00      1.00        20\n",
      "      grapes       1.00      1.00      1.00        18\n",
      "        jute       1.00      0.82      0.90        28\n",
      " kidneybeans       1.00      1.00      1.00        14\n",
      "      lentil       1.00      1.00      1.00        23\n",
      "       maize       1.00      0.95      0.98        21\n",
      "       mango       0.96      1.00      0.98        26\n",
      "   mothbeans       1.00      0.95      0.97        19\n",
      "    mungbean       1.00      1.00      1.00        24\n",
      "   muskmelon       1.00      1.00      1.00        23\n",
      "      orange       1.00      1.00      1.00        29\n",
      "      papaya       1.00      1.00      1.00        19\n",
      "  pigeonpeas       1.00      1.00      1.00        18\n",
      " pomegranate       1.00      1.00      1.00        17\n",
      "        rice       0.76      1.00      0.86        16\n",
      "  watermelon       1.00      1.00      1.00        15\n",
      "\n",
      "    accuracy                           0.98       440\n",
      "   macro avg       0.99      0.99      0.99       440\n",
      "weighted avg       0.99      0.98      0.98       440\n",
      "\n"
     ]
    }
   ],
   "source": [
    "\n",
    "from sklearn.svm import SVC as ss\n",
    "# data normalization with sklearn\n",
    "from sklearn.preprocessing import MinMaxScaler\n",
    "# fit scaler on training data\n",
    "norm = MinMaxScaler().fit(Xtrain)\n",
    "X_train_norm = norm.transform(Xtrain)\n",
    "# transform testing data\n",
    "X_test_norm = norm.transform(Xtest)\n",
    "S = ss(kernel='poly', degree=3, C=1)\n",
    "S.fit(X_train_norm,Ytrain)\n",
    "predicted_values = S.predict(X_test_norm)\n",
    "x = metrics.accuracy_score(Ytest, predicted_values)\n",
    "acc.append(x)\n",
    "model.append('SVM')\n",
    "print(\"SVM's Accuracy is: \", x*100)\n",
    "\n",
    "print(classification_report(Ytest,predicted_values))"
   ]
  },
  {
   "cell_type": "code",
   "execution_count": 150,
   "id": "cc64e8b6",
   "metadata": {},
   "outputs": [
    {
     "data": {
      "text/plain": [
       "array([0.96818182, 0.98409091, 0.98181818, 0.98863636, 0.97727273])"
      ]
     },
     "execution_count": 150,
     "metadata": {},
     "output_type": "execute_result"
    }
   ],
   "source": [
    "# Cross validation score (SVM)\n",
    "score = cross_val_score(S,features,target,cv=5)\n",
    "score"
   ]
  },
  {
   "cell_type": "code",
   "execution_count": 151,
   "id": "175e2035",
   "metadata": {},
   "outputs": [
    {
     "data": {
      "text/plain": [
       "<AxesSubplot: title={'center': 'Accuracy Comparison'}, xlabel='Accuracy', ylabel='Algorithm'>"
      ]
     },
     "execution_count": 151,
     "metadata": {},
     "output_type": "execute_result"
    },
    {
     "data": {
      "image/png": "[encoded data removed]",
      "text/plain": [
       "<Figure size 1000x500 with 1 Axes>"
      ]
     },
     "metadata": {},
     "output_type": "display_data"
    }
   ],
   "source": [
    "plt.figure(figsize=[10,5],dpi = 100)\n",
    "plt.title('Accuracy Comparison')\n",
    "plt.xlabel('Accuracy')\n",
    "plt.ylabel('Algorithm')\n",
    "sns.barplot(x = acc,y = model,palette='dark')"
   ]
  },
  {
   "cell_type": "code",
   "execution_count": null,
   "id": "b5608272",
   "metadata": {},
   "outputs": [],
   "source": []
  },
  {
   "cell_type": "code",
   "execution_count": null,
   "id": "7d096015",
   "metadata": {},
   "outputs": [],
   "source": []
  },
  {
   "cell_type": "code",
   "execution_count": null,
   "id": "5ed29716",
   "metadata": {},
   "outputs": [],
   "source": []
  },
  {
   "cell_type": "code",
   "execution_count": null,
   "id": "84a8169a",
   "metadata": {},
   "outputs": [],
   "source": []
  }
 ],
 "metadata": {
  "kernelspec": {
   "display_name": "Python 3 (ipykernel)",
   "language": "python",
   "name": "python3"
  },
  "language_info": {
   "codemirror_mode": {
    "name": "ipython",
    "version": 3
   },
   "file_extension": ".py",
   "mimetype": "text/x-python",
   "name": "python",
   "nbconvert_exporter": "python",
   "pygments_lexer": "ipython3",
   "version": "3.10.5"
  }
 },
 "nbformat": 4,
 "nbformat_minor": 5
}
